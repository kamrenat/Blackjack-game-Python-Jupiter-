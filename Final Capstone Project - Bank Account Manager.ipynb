{
 "cells": [
  {
   "cell_type": "markdown",
   "metadata": {},
   "source": [
    "# Final capstone project - Bank account manager app"
   ]
  },
  {
   "cell_type": "markdown",
   "metadata": {},
   "source": [
    "## Description\n",
    "\n",
    "This is a final capstone project of the \"Python Bootcamp\" course on Udemy.\n",
    "The task is to create an application for bank account manager.\n",
    "\n",
    "**Bank Account Manager** - Create a class called Account which will be an abstract class for three other classes called CheckingAccount, SavingsAccount and BusinessAccount. Manage credits and debits from these accounts through an ATM style program."
   ]
  },
  {
   "cell_type": "markdown",
   "metadata": {},
   "source": [
    "### The project scope:\n",
    "\n",
    "1. Class \"Acount\" would be created\n",
    "2. There will be 3 types of accounts derives from \"Account\" class: checking, savings and business\n",
    "3. Several users may be created using the app\n",
    "4. App will allow to debit and withdraw the money from different accounts"
   ]
  },
  {
   "cell_type": "markdown",
   "metadata": {},
   "source": [
    "### Import modules"
   ]
  },
  {
   "cell_type": "code",
   "execution_count": 1,
   "metadata": {},
   "outputs": [],
   "source": [
    "import random"
   ]
  },
  {
   "cell_type": "markdown",
   "metadata": {},
   "source": [
    "### Firts step - define classes and functions"
   ]
  },
  {
   "cell_type": "markdown",
   "metadata": {},
   "source": [
    "#### User - Class ####"
   ]
  },
  {
   "cell_type": "code",
   "execution_count": 2,
   "metadata": {},
   "outputs": [],
   "source": [
    "# Create class for User.\n",
    "# The attibutes of the User are user Name and Surname\n",
    "\n",
    "class User():\n",
    "    \n",
    "    def __init__(self):\n",
    "        \n",
    "        # Dictionaries for accounts created\n",
    "        self.checkings_accounts = {}\n",
    "        self.savings_accounts = {}\n",
    "        self.business_accounts = {}\n",
    "        \n",
    "    def create_user(self):\n",
    "        new_user_name = str(input(\"Please enter your name\"))\n",
    "        new_user_surname = str(input(\"Please enter your surname\"))\n",
    "        self.name = new_user_name\n",
    "        self.surname = new_user_surname\n",
    "        \n",
    "    def __str__(self):\n",
    "        \n",
    "        # Calculate total accounts number and amount deposited\n",
    "        number_of_account = 0\n",
    "        total_amount = 0\n",
    "        for value in self.checkings_accounts.values():\n",
    "            number_of_account += 1\n",
    "            total_amount += value\n",
    "        for value in self.savings_accounts.values():\n",
    "            number_of_account += 1\n",
    "            total_amount += value\n",
    "        for value in self.business_accounts.values():\n",
    "            number_of_account += 1\n",
    "            total_amount += value\n",
    "            \n",
    "        # Return for printing\n",
    "        return \"Client name: \"+self.name+\" \"+self.surname+\"\\nTotal accounts number: \"+str(number_of_account)+ \"\\nTotal amount deposited: \"+str(total_amount)"
   ]
  },
  {
   "cell_type": "markdown",
   "metadata": {},
   "source": [
    "#### Account number - Function ####"
   ]
  },
  {
   "cell_type": "code",
   "execution_count": 3,
   "metadata": {},
   "outputs": [],
   "source": [
    "# Generator for accounts numbers\n",
    "def gen_acc_nb():\n",
    "    for x in range(100000000,200000000,1):\n",
    "        yield x"
   ]
  },
  {
   "cell_type": "code",
   "execution_count": 4,
   "metadata": {},
   "outputs": [],
   "source": [
    "gen_acc_nb = gen_acc_nb()"
   ]
  },
  {
   "cell_type": "code",
   "execution_count": 5,
   "metadata": {},
   "outputs": [
    {
     "data": {
      "text/plain": [
       "100000000"
      ]
     },
     "execution_count": 5,
     "metadata": {},
     "output_type": "execute_result"
    }
   ],
   "source": [
    "next(gen_acc_nb)"
   ]
  },
  {
   "cell_type": "markdown",
   "metadata": {},
   "source": [
    "#### General \"Account\" class ####"
   ]
  },
  {
   "cell_type": "code",
   "execution_count": 6,
   "metadata": {},
   "outputs": [],
   "source": [
    "# Create and abstract class for Account\n",
    "\n",
    "class Account:\n",
    "    \n",
    "    def __init__(self, amount=0):\n",
    "        self.amount = amount\n",
    "        self.account_created = False\n",
    "        self.account_type = \"TEST\"\n",
    "    \n",
    "    def create_account(self, user): # Create a new account, input - user class\n",
    "        \n",
    "        # Creation of an account\n",
    "        self.name = user.name\n",
    "        self.surname = user.surname\n",
    "        self.account_number = next(gen_acc_nb)\n",
    "        self.account_created = True\n",
    "        \n",
    "        # Addition of a new account to the user information\n",
    "        if self.account_type == \"Checking account\":\n",
    "            user.checkings_accounts[self.account_number] = self.amount\n",
    "        elif self.account_type == \"Savings account\":\n",
    "            user.savings_accounts[self.account_number] = self.amount\n",
    "        else:\n",
    "            user.business_accounts[self.account_number] = self.amount\n",
    "    \n",
    "    def deposit(self, user): # Deposit a sum of money to the account\n",
    "        \n",
    "        # Deposit money\n",
    "        if self.account_created == True:\n",
    "            deposit_sum = int(input(\"Please input a sum of money you want to deposit.\"))\n",
    "            self.amount += deposit_sum\n",
    "            print(\"You have deposited {}.\\nAccount balance: {}.\".format(deposit_sum,self.amount))\n",
    "            \n",
    "            # Change balance of the user accounts\n",
    "            if self.account_type == \"Checking account\":\n",
    "                user.checkings_accounts[self.account_number] = self.amount\n",
    "            elif self.account_type == \"Savings account\":\n",
    "                user.savings_accounts[self.account_number] = self.amount\n",
    "            else:\n",
    "                user.business_accounts[self.account_number] = self.amount\n",
    "            \n",
    "        else:\n",
    "            print(\"Account has not been identified!\")\n",
    "        \n",
    "\n",
    "        \n",
    "    def withdraw(self, user): # Withdraw a sum of money from the account\n",
    "        if self.account_created == True:\n",
    "            while True:\n",
    "                withdraw_sum = int(input(\"Please input a sum of money you want to withdraw.\"))\n",
    "                if withdraw_sum > self.amount:\n",
    "                    print(\"You do not have enough cash!\\nAccount balance: {}.\".format(self.amount))\n",
    "  \n",
    "                else:\n",
    "                    self.amount -= withdraw_sum\n",
    "                    print(\"You have withdrawn {}.\\nAccount balance: {}.\".format(withdraw_sum,self.amount))\n",
    "                                        \n",
    "                    # Change balance of the user accounts\n",
    "                    if self.account_type == \"Checking account\":\n",
    "                        user.checkings_accounts[self.account_number] = self.amount\n",
    "                    elif self.account_type == \"Savings account\":\n",
    "                        user.savings_accounts[self.account_number] = self.amount\n",
    "                    else:\n",
    "                        user.business_accounts[self.account_number] = self.amount\n",
    "                        \n",
    "                    break\n",
    "        else:\n",
    "            print(\"Account has not been identified!\")\n",
    "                \n",
    "    def __str__(self):  # Print account information\n",
    "        if self.account_created == True:\n",
    "            return(\"Client: {} {}\\nAccount type: {}\\nAccount number: {}\\nAccount balance: {}\".format(self.name,self.surname,self.account_type,self.account_number,self.amount))\n",
    "        else:\n",
    "            return(\"Account has not been identified!\")\n",
    "        "
   ]
  },
  {
   "cell_type": "markdown",
   "metadata": {},
   "source": [
    "#### \"Checking account\" class ####"
   ]
  },
  {
   "cell_type": "code",
   "execution_count": 7,
   "metadata": {},
   "outputs": [],
   "source": [
    "# Create class for Checking Account\n",
    "# It inherit attributed from class \"Account\"\n",
    "\n",
    "class CheckingAccount(Account):\n",
    "    \n",
    "    def __init__(self):\n",
    "        Account.__init__(self)\n",
    "        self.account_type = \"Checking account\"\n",
    "        \n",
    "    def description(self): #print description of the Checking account\n",
    "        print(\"A checking account is a type of bank account which allows you to write checks using the money you deposit.\")\n",
    "    "
   ]
  },
  {
   "cell_type": "markdown",
   "metadata": {},
   "source": [
    "#### \"Savings account\" class ####"
   ]
  },
  {
   "cell_type": "code",
   "execution_count": 8,
   "metadata": {},
   "outputs": [],
   "source": [
    "# Create class for Savings Account\n",
    "# It inherit attributed from class \"Account\"\n",
    "\n",
    "class SavingsAccount(Account):\n",
    "    \n",
    "    def __init__(self):\n",
    "        Account.__init__(self)\n",
    "        self.account_type = \"Savings account\"\n",
    "        \n",
    "    def description(self): #print description of the Checking account\n",
    "        print(\"A savings account is an interest-bearing deposit account held at a bank or other financial institution.\")\n",
    "    "
   ]
  },
  {
   "cell_type": "markdown",
   "metadata": {},
   "source": [
    "#### \"Business account\" class ####"
   ]
  },
  {
   "cell_type": "code",
   "execution_count": 9,
   "metadata": {},
   "outputs": [],
   "source": [
    "# Create class for Savings Account\n",
    "# It inherit attributed from class \"Account\"\n",
    "\n",
    "class BusinessAccount(Account):\n",
    "    \n",
    "    def __init__(self):\n",
    "        Account.__init__(self)\n",
    "        self.account_type = \"Business account\"\n",
    "        \n",
    "    def description(self): #print description of the Checking account\n",
    "        print(\"A business account is an account used for business operations.\")\n",
    "    "
   ]
  },
  {
   "cell_type": "markdown",
   "metadata": {},
   "source": [
    "# TEST"
   ]
  },
  {
   "cell_type": "code",
   "execution_count": 10,
   "metadata": {},
   "outputs": [],
   "source": [
    "new_user = User()"
   ]
  },
  {
   "cell_type": "code",
   "execution_count": 11,
   "metadata": {},
   "outputs": [
    {
     "name": "stdin",
     "output_type": "stream",
     "text": [
      "Please enter your name Ivan\n",
      "Please enter your surname Ivanov\n"
     ]
    }
   ],
   "source": [
    "new_user.create_user()"
   ]
  },
  {
   "cell_type": "code",
   "execution_count": 12,
   "metadata": {},
   "outputs": [],
   "source": [
    "new_checking_account = CheckingAccount()"
   ]
  },
  {
   "cell_type": "code",
   "execution_count": 13,
   "metadata": {},
   "outputs": [],
   "source": [
    "new_checking_account.create_account(new_user)"
   ]
  },
  {
   "cell_type": "code",
   "execution_count": 14,
   "metadata": {},
   "outputs": [
    {
     "name": "stdout",
     "output_type": "stream",
     "text": [
      "Client: Ivan Ivanov\n",
      "Account type: Checking account\n",
      "Account number: 100000001\n",
      "Account balance: 0\n"
     ]
    }
   ],
   "source": [
    "print(new_checking_account)"
   ]
  },
  {
   "cell_type": "code",
   "execution_count": 15,
   "metadata": {},
   "outputs": [
    {
     "name": "stdin",
     "output_type": "stream",
     "text": [
      "Please input a sum of money you want to deposit. 100\n"
     ]
    },
    {
     "name": "stdout",
     "output_type": "stream",
     "text": [
      "You have deposited 100.\n",
      "Account balance: 100.\n"
     ]
    }
   ],
   "source": [
    "new_checking_account.deposit(new_user)"
   ]
  },
  {
   "cell_type": "code",
   "execution_count": 16,
   "metadata": {},
   "outputs": [
    {
     "name": "stdin",
     "output_type": "stream",
     "text": [
      "Please input a sum of money you want to withdraw. 500\n"
     ]
    },
    {
     "name": "stdout",
     "output_type": "stream",
     "text": [
      "You do not have enough cash!\n",
      "Account balance: 100.\n"
     ]
    },
    {
     "name": "stdin",
     "output_type": "stream",
     "text": [
      "Please input a sum of money you want to withdraw. 40\n"
     ]
    },
    {
     "name": "stdout",
     "output_type": "stream",
     "text": [
      "You have withdrawn 40.\n",
      "Account balance: 60.\n"
     ]
    }
   ],
   "source": [
    "new_checking_account.withdraw(new_user)"
   ]
  },
  {
   "cell_type": "code",
   "execution_count": 17,
   "metadata": {},
   "outputs": [
    {
     "name": "stdout",
     "output_type": "stream",
     "text": [
      "Client: Ivan Ivanov\n",
      "Account type: Checking account\n",
      "Account number: 100000001\n",
      "Account balance: 60\n"
     ]
    }
   ],
   "source": [
    "print(new_checking_account)"
   ]
  },
  {
   "cell_type": "code",
   "execution_count": 18,
   "metadata": {},
   "outputs": [
    {
     "name": "stdout",
     "output_type": "stream",
     "text": [
      "Client name: Ivan Ivanov\n",
      "Total accounts number: 1\n",
      "Total amount deposited: 60\n"
     ]
    }
   ],
   "source": [
    "print(new_user)"
   ]
  },
  {
   "cell_type": "code",
   "execution_count": null,
   "metadata": {},
   "outputs": [],
   "source": []
  },
  {
   "cell_type": "code",
   "execution_count": 20,
   "metadata": {},
   "outputs": [],
   "source": [
    "new_savings_account = SavingsAccount()"
   ]
  },
  {
   "cell_type": "code",
   "execution_count": 21,
   "metadata": {},
   "outputs": [],
   "source": [
    "new_savings_account.create_account(new_user)"
   ]
  },
  {
   "cell_type": "code",
   "execution_count": 22,
   "metadata": {},
   "outputs": [
    {
     "name": "stdin",
     "output_type": "stream",
     "text": [
      "Please input a sum of money you want to deposit. 100\n"
     ]
    },
    {
     "name": "stdout",
     "output_type": "stream",
     "text": [
      "You have deposited 100.\n",
      "Account balance: 100.\n"
     ]
    }
   ],
   "source": [
    "new_savings_account.deposit(new_user)"
   ]
  },
  {
   "cell_type": "code",
   "execution_count": 23,
   "metadata": {},
   "outputs": [
    {
     "name": "stdin",
     "output_type": "stream",
     "text": [
      "Please input a sum of money you want to withdraw. 500\n"
     ]
    },
    {
     "name": "stdout",
     "output_type": "stream",
     "text": [
      "You do not have enough cash!\n",
      "Account balance: 100.\n"
     ]
    },
    {
     "name": "stdin",
     "output_type": "stream",
     "text": [
      "Please input a sum of money you want to withdraw. 10\n"
     ]
    },
    {
     "name": "stdout",
     "output_type": "stream",
     "text": [
      "You have withdrawn 10.\n",
      "Account balance: 90.\n"
     ]
    }
   ],
   "source": [
    "new_savings_account.withdraw(new_user)"
   ]
  },
  {
   "cell_type": "code",
   "execution_count": 24,
   "metadata": {},
   "outputs": [
    {
     "name": "stdout",
     "output_type": "stream",
     "text": [
      "Client: Ivan Ivanov\n",
      "Account type: Savings account\n",
      "Account number: 100000002\n",
      "Account balance: 90\n"
     ]
    }
   ],
   "source": [
    "print(new_savings_account)"
   ]
  },
  {
   "cell_type": "code",
   "execution_count": 25,
   "metadata": {},
   "outputs": [
    {
     "name": "stdout",
     "output_type": "stream",
     "text": [
      "Client name: Ivan Ivanov\n",
      "Total accounts number: 2\n",
      "Total amount deposited: 150\n"
     ]
    }
   ],
   "source": [
    "print(new_user)"
   ]
  },
  {
   "cell_type": "code",
   "execution_count": null,
   "metadata": {},
   "outputs": [],
   "source": []
  },
  {
   "cell_type": "code",
   "execution_count": 27,
   "metadata": {},
   "outputs": [],
   "source": [
    "new_business_account = BusinessAccount()"
   ]
  },
  {
   "cell_type": "code",
   "execution_count": 29,
   "metadata": {},
   "outputs": [],
   "source": [
    "new_business_account.create_account(new_user)"
   ]
  },
  {
   "cell_type": "code",
   "execution_count": 30,
   "metadata": {},
   "outputs": [
    {
     "name": "stdin",
     "output_type": "stream",
     "text": [
      "Please input a sum of money you want to deposit. 300\n"
     ]
    },
    {
     "name": "stdout",
     "output_type": "stream",
     "text": [
      "You have deposited 300.\n",
      "Account balance: 300.\n"
     ]
    }
   ],
   "source": [
    "new_business_account.deposit(new_user)"
   ]
  },
  {
   "cell_type": "code",
   "execution_count": 32,
   "metadata": {},
   "outputs": [
    {
     "name": "stdin",
     "output_type": "stream",
     "text": [
      "Please input a sum of money you want to withdraw. 1000\n"
     ]
    },
    {
     "name": "stdout",
     "output_type": "stream",
     "text": [
      "You do not have enough cash!\n",
      "Account balance: 300.\n"
     ]
    },
    {
     "name": "stdin",
     "output_type": "stream",
     "text": [
      "Please input a sum of money you want to withdraw. 250\n"
     ]
    },
    {
     "name": "stdout",
     "output_type": "stream",
     "text": [
      "You have withdrawn 250.\n",
      "Account balance: 50.\n"
     ]
    }
   ],
   "source": [
    "new_business_account.withdraw(new_user)"
   ]
  },
  {
   "cell_type": "code",
   "execution_count": 33,
   "metadata": {},
   "outputs": [
    {
     "name": "stdout",
     "output_type": "stream",
     "text": [
      "Client: Ivan Ivanov\n",
      "Account type: Business account\n",
      "Account number: 100000003\n",
      "Account balance: 50\n"
     ]
    }
   ],
   "source": [
    "print(new_business_account)"
   ]
  },
  {
   "cell_type": "code",
   "execution_count": 34,
   "metadata": {},
   "outputs": [
    {
     "name": "stdout",
     "output_type": "stream",
     "text": [
      "Client name: Ivan Ivanov\n",
      "Total accounts number: 3\n",
      "Total amount deposited: 200\n"
     ]
    }
   ],
   "source": [
    "print(new_user)"
   ]
  },
  {
   "cell_type": "code",
   "execution_count": null,
   "metadata": {},
   "outputs": [],
   "source": []
  },
  {
   "cell_type": "code",
   "execution_count": 36,
   "metadata": {},
   "outputs": [
    {
     "name": "stdout",
     "output_type": "stream",
     "text": [
      "A checking account is a type of bank account which allows you to write checks using the money you deposit.\n"
     ]
    }
   ],
   "source": [
    "new_checking_account.description()"
   ]
  },
  {
   "cell_type": "code",
   "execution_count": 37,
   "metadata": {},
   "outputs": [
    {
     "name": "stdout",
     "output_type": "stream",
     "text": [
      "A savings account is an interest-bearing deposit account held at a bank or other financial institution.\n"
     ]
    }
   ],
   "source": [
    "new_savings_account.description()"
   ]
  },
  {
   "cell_type": "code",
   "execution_count": 38,
   "metadata": {},
   "outputs": [
    {
     "name": "stdout",
     "output_type": "stream",
     "text": [
      "A business account is an account used for business operations.\n"
     ]
    }
   ],
   "source": [
    "new_business_account.description()"
   ]
  },
  {
   "cell_type": "code",
   "execution_count": null,
   "metadata": {},
   "outputs": [],
   "source": []
  }
 ],
 "metadata": {
  "kernelspec": {
   "display_name": "Python",
   "language": "python",
   "name": "conda-env-python-py"
  },
  "language_info": {
   "codemirror_mode": {
    "name": "ipython",
    "version": 3
   },
   "file_extension": ".py",
   "mimetype": "text/x-python",
   "name": "python",
   "nbconvert_exporter": "python",
   "pygments_lexer": "ipython3",
   "version": "3.6.7"
  }
 },
 "nbformat": 4,
 "nbformat_minor": 4
}
